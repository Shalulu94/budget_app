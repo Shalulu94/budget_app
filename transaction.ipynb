{
 "cells": [
  {
   "cell_type": "code",
   "execution_count": 5,
   "id": "87b2691a-8baa-468a-8298-9ea3baadcb28",
   "metadata": {},
   "outputs": [],
   "source": [
    "import pandas as pd\n",
    "df = pd.read_csv(\"./docs/offset_trans.csv\")"
   ]
  },
  {
   "cell_type": "code",
   "execution_count": 2,
   "id": "4403ba30-d3d6-4c3a-bc95-4237c029f529",
   "metadata": {},
   "outputs": [
    {
     "data": {
      "text/html": [
       "<div>\n",
       "<style scoped>\n",
       "    .dataframe tbody tr th:only-of-type {\n",
       "        vertical-align: middle;\n",
       "    }\n",
       "\n",
       "    .dataframe tbody tr th {\n",
       "        vertical-align: top;\n",
       "    }\n",
       "\n",
       "    .dataframe thead th {\n",
       "        text-align: right;\n",
       "    }\n",
       "</style>\n",
       "<table border=\"1\" class=\"dataframe\">\n",
       "  <thead>\n",
       "    <tr style=\"text-align: right;\">\n",
       "      <th></th>\n",
       "      <th>Date</th>\n",
       "      <th>Description</th>\n",
       "      <th>Debit</th>\n",
       "      <th>Credit</th>\n",
       "      <th>Balance</th>\n",
       "    </tr>\n",
       "  </thead>\n",
       "  <tbody>\n",
       "    <tr>\n",
       "      <th>07/06/2024</th>\n",
       "      <td>Osko Deposit                  07Jun22:01 Mr Sh...</td>\n",
       "      <td>NaN</td>\n",
       "      <td>3250.0</td>\n",
       "      <td>57199.33</td>\n",
       "      <td>NaN</td>\n",
       "    </tr>\n",
       "    <tr>\n",
       "      <th>04/06/2024</th>\n",
       "      <td>Eftpos Credit                 04Jun12:21 Beem\\...</td>\n",
       "      <td>NaN</td>\n",
       "      <td>20.0</td>\n",
       "      <td>53949.33</td>\n",
       "      <td>NaN</td>\n",
       "    </tr>\n",
       "    <tr>\n",
       "      <th>04/06/2024</th>\n",
       "      <td>Internet Withdrawal           04Jun09:52 To 46...</td>\n",
       "      <td>4105.65</td>\n",
       "      <td>NaN</td>\n",
       "      <td>53929.33</td>\n",
       "      <td>NaN</td>\n",
       "    </tr>\n",
       "    <tr>\n",
       "      <th>03/06/2024</th>\n",
       "      <td>Osko Deposit                  03Jun13:00 June ...</td>\n",
       "      <td>NaN</td>\n",
       "      <td>1415.0</td>\n",
       "      <td>58034.98</td>\n",
       "      <td>NaN</td>\n",
       "    </tr>\n",
       "    <tr>\n",
       "      <th>01/06/2024</th>\n",
       "      <td>Eftpos Debit                  01Jun12:49 Beem\\...</td>\n",
       "      <td>7.50</td>\n",
       "      <td>NaN</td>\n",
       "      <td>56619.98</td>\n",
       "      <td>NaN</td>\n",
       "    </tr>\n",
       "  </tbody>\n",
       "</table>\n",
       "</div>"
      ],
      "text/plain": [
       "                                                         Date  Description  \\\n",
       "07/06/2024  Osko Deposit                  07Jun22:01 Mr Sh...          NaN   \n",
       "04/06/2024  Eftpos Credit                 04Jun12:21 Beem\\...          NaN   \n",
       "04/06/2024  Internet Withdrawal           04Jun09:52 To 46...      4105.65   \n",
       "03/06/2024  Osko Deposit                  03Jun13:00 June ...          NaN   \n",
       "01/06/2024  Eftpos Debit                  01Jun12:49 Beem\\...         7.50   \n",
       "\n",
       "             Debit    Credit  Balance  \n",
       "07/06/2024  3250.0  57199.33      NaN  \n",
       "04/06/2024    20.0  53949.33      NaN  \n",
       "04/06/2024     NaN  53929.33      NaN  \n",
       "03/06/2024  1415.0  58034.98      NaN  \n",
       "01/06/2024     NaN  56619.98      NaN  "
      ]
     },
     "execution_count": 2,
     "metadata": {},
     "output_type": "execute_result"
    }
   ],
   "source": [
    "df.head()"
   ]
  },
  {
   "cell_type": "code",
   "execution_count": null,
   "id": "bbfcb646-69ff-4e3c-8a74-c3081d05e92d",
   "metadata": {},
   "outputs": [],
   "source": [
    "df.tail(2)"
   ]
  }
 ],
 "metadata": {
  "kernelspec": {
   "display_name": "Python 3 (ipykernel)",
   "language": "python",
   "name": "python3"
  },
  "language_info": {
   "codemirror_mode": {
    "name": "ipython",
    "version": 3
   },
   "file_extension": ".py",
   "mimetype": "text/x-python",
   "name": "python",
   "nbconvert_exporter": "python",
   "pygments_lexer": "ipython3",
   "version": "3.10.12"
  }
 },
 "nbformat": 4,
 "nbformat_minor": 5
}
